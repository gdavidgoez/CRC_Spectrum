{
 "cells": [
  {
   "cell_type": "markdown",
   "id": "2f781071-5e67-4311-8ba1-2361b825a780",
   "metadata": {},
   "source": [
    "# Spectrum detection algorithm"
   ]
  },
  {
   "cell_type": "markdown",
   "id": "f7eea9dc-505b-45af-923e-9fa43c6a0cce",
   "metadata": {},
   "source": [
    "### Obtain power spectrum from SoapySDR devices (AIR-T, RTL-SDR, Airspy, SDRplay, HackRF, bladeRF, USRP, LimeSDR, etc.)\n",
    "\n",
    "### link [soapy_power](https://github.com/xmikos/soapy_power)"
   ]
  },
  {
   "cell_type": "code",
   "execution_count": 1,
   "id": "ea32b2ca-7c22-4132-9575-fcb2e0447e98",
   "metadata": {},
   "outputs": [],
   "source": [
    "#!/usr/bin/env python3\n",
    "# -*- coding: utf-8 -*-\n",
    "#\n",
    "#https://github.com/xmikos/soapy_power\n",
    "# version 1.1\n",
    "# Title: Spectrum sensing\n",
    "# Author: David Góez\n",
    "# UdeA-IDLab research group\n",
    "# 2023/7\n",
    "\n",
    "\n",
    "from datetime import datetime\n",
    "from datetime import time\n",
    "\n",
    "import SoapySDR\n",
    "import simplesoapy\n",
    "import numpy\n",
    "import subprocess\n",
    "import csv\n",
    "from IPython.display import clear_output\n",
    "import io\n",
    "from datetime import datetime\n"
   ]
  },
  {
   "cell_type": "code",
   "execution_count": 29,
   "id": "f14ba098-3a06-4e94-b8be-1dfca489769b",
   "metadata": {},
   "outputs": [],
   "source": [
    "def execute_soapy_power(cont):\n",
    "    command = \"soapy_power --force-rate -r 50M --antenna=RX --gain=30 -f 3400M:3800M -b 2048 -n 1000  -u 1 --remove-dc\"\n",
    "    try:\n",
    "        process = subprocess.Popen(command, shell=True, stdout=subprocess.PIPE, stderr=subprocess.PIPE)\n",
    "\n",
    "        output, _ = process.communicate()\n",
    "        output_str = output.decode(\"utf-8\")\n",
    "        fecha = output_str[0:20]\n",
    "\n",
    "        with open(\"/home/david-imec/gnuradio_test/udea_sensing/output_\"+ fecha +\".csv\", \"w\", newline=\"\") as csvfile:\n",
    "            writer = csv.writer(csvfile)\n",
    "            lines = output_str.strip().split(\",\")\n",
    "            writer.writerow(lines)\n",
    "        # clear_output()\n",
    "        \n",
    "    except subprocess.CalledProcessError as e:\n",
    "        print(\"Error executing SoapyPower:\", e)\n",
    "        "
   ]
  },
  {
   "cell_type": "code",
   "execution_count": 30,
   "id": "39b3c45d-44f5-41f4-b0fa-ccd45d11fe6b",
   "metadata": {},
   "outputs": [],
   "source": [
    "def main(fh1,fh2):\n",
    "    flag = True\n",
    "    sensing=True\n",
    "    cont = 0\n",
    "    while flag:\n",
    "        fecha_hora1 = fh1   # \n",
    "        fecha_hora2 = fh2   # \n",
    "\n",
    "        if datetime.now() > fecha_hora1 and datetime.now() < fecha_hora2:\n",
    "            hora1 = time(10, 0,0,0)  # First time (10:00)\n",
    "            hora2 = time(2, 0,0,0)   # Second time (02:00)\n",
    "\n",
    "            if hora1.hour > hora2.hour:\n",
    "        # Adjust the hour of the first time by adding 24\n",
    "                adjusted_hour1_ = (hora1.hour + 24) % 24\n",
    "                adjusted_hora1 = time(adjusted_hour1_, hora1.minute, hora1.second)\n",
    "            else:\n",
    "                adjusted_hora1 =  hora1\n",
    "        \n",
    "            fecha_hora_actual = datetime.now()  # get time and date data\n",
    "            hora_actual = fecha_hora_actual.time()\n",
    "            if hora_actual > hora1 and hora_actual > hora2:\n",
    "                execute_soapy_power(cont)\n",
    "                if sensing==True:\n",
    "                    print(\"Sensing\", end='')\n",
    "                    sensing=False\n",
    "                else:\n",
    "                    print(\".\", end=\"\", flush=True)\n",
    "                cont+=1\n",
    "            else:\n",
    "                print(\"wait time\")\n",
    "                sensing=True\n",
    "        elif datetime.now() > fecha_hora2:\n",
    "            flag = False\n",
    "    return cont"
   ]
  },
  {
   "cell_type": "markdown",
   "id": "b6dc93e3-d8ca-4122-be1c-eaaa5ec530a5",
   "metadata": {},
   "source": [
    "# Sensing time control"
   ]
  },
  {
   "cell_type": "code",
   "execution_count": 31,
   "id": "6b7f5665-65f5-48dc-bc3f-90be7b0a9384",
   "metadata": {},
   "outputs": [
    {
     "name": "stdout",
     "output_type": "stream",
     "text": [
      "['driver=uhd, serial=310A880, label=B200 310A880']\n",
      "Sensing..........................spectrum data ok --> total:  20\n"
     ]
    }
   ],
   "source": [
    "if __name__ == \"__main__\":\n",
    "    # lists the devices found\n",
    "    devices = SoapySDR.Device.enumerate()\n",
    "\n",
    "    if devices:\n",
    "        print(simplesoapy.detect_devices(as_string=True))\n",
    "#------------------------------------------------------------------------\n",
    "        fecha_hora1_ = datetime(2023, 7, 24, 14, 38)   # \n",
    "        fecha_hora2_ = datetime(2023, 7, 24, 14, 39)   #\n",
    "#------------------------------------------------------------------------\n",
    "        nd = main(fecha_hora1_ ,fecha_hora2_ )\n",
    "        print(\".......spectrum data ok --> total: \",nd)\n",
    "    else:\n",
    "        print(\".......Error, radio not detected......\")"
   ]
  }
 ],
 "metadata": {
  "kernelspec": {
   "display_name": "Python 3 (ipykernel)",
   "language": "python",
   "name": "python3"
  },
  "language_info": {
   "codemirror_mode": {
    "name": "ipython",
    "version": 3
   },
   "file_extension": ".py",
   "mimetype": "text/x-python",
   "name": "python",
   "nbconvert_exporter": "python",
   "pygments_lexer": "ipython3",
   "version": "3.11.4"
  }
 },
 "nbformat": 4,
 "nbformat_minor": 5
}
